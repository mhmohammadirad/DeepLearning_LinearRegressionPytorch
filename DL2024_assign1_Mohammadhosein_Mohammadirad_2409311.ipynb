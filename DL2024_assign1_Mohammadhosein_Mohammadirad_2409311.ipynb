{
 "cells": [
  {
   "cell_type": "markdown",
   "metadata": {},
   "source": [
    "# Deep Learning 2024 - Assignment 1\n",
    "\n",
    "Designed by Marko Savic (marko.savic@oulu.fi)\n",
    "\n"
   ]
  },
  {
   "cell_type": "markdown",
   "metadata": {},
   "source": [
    "## Outline (10 points)\n",
    "#### Submission:\n",
    "We will give 2 weeks for each assignment and more for the final project.\n",
    "\n",
    "The grades will be released after the deadline. Please also put your name and student number (if you have one) in the file name of the returned assignments. (DL2024_assign1_NAME_SURNAME_STUDENTNUMBER.ipynb)\n",
    "\n",
    "#### In this assignment, you will learn:\n",
    "* How to load data and create a train/test split\n",
    "* How to build your own Pytorch model for simple linear regression problem on the generated data.\n",
    "* Training the model with gradient descent algorithm in Pytorch.\n",
    "* Simple visualisation of data, loss and linear model\n",
    "\n",
    "#### Tasks (10 points):\n",
    "* Part 1. Load dataset and split into training and testing sets (1.5 points)\n",
    "* Part 2.1 Model (1.5 points)\n",
    "* Part 2.2 Training (7 points)\n",
    "\n",
    "#### Environment\n",
    "Python 3 + Pytorch (>=1.3).<br>\n",
    "Other libraries should be installed correctly such as numpy, matplotlib, *etc*., according to the dependencies of the assignment. <br>\n",
    "If you haven’t installed Pytorch and Jupyter notebook in your computer, an alternative environment to finish the assignment is CSC notebook: [`https://noppe.2.rahtiapp.fi/`](https://noppe.2.rahtiapp.fi/) -> log in with HaKa using your university account -> Jupyter Machine Learning. \n",
    "Also, googlecolab is available through your google university account (instruction in https://www.oulu.fi/en/for-students/supporting-your-studies-and-contact-information-for-students/it-services-for-students/google-workspace-for-education). Computer room TS135 contains computers with GPUs that you can utilise as well.\n",
    "\n",
    "We will give 2 weeks for each assignment and more for the final project. So it may happen where the new assignment is published before the deadline of the previous assignment. Please do not wait till the last minute to complete the assigments, as they can be time consuming. \n",
    "\n",
    "#### Database\n",
    "* Advertising dataset\n",
    "\n",
    "#### Hints\n",
    "* To find the place where you have to insert your solution, hit Crtl + F and search for **TODO:** . You are not supposed to modify the code from other parts.\n",
    "* Be careful with the shape of the weights, gradient, .. of your tensor in your implementation. Double check and make sure the shapes fit for computation, especially matrix multiplication.\n",
    "* Use only torch functions for the model, and avoid iterations. E.g. if you put a for cycle in the model function then parallelism is gone and your model will not run efficiently on GPUs. Also once you have the data loaded as tensors, you need to use torch functions, if you convert to numpy arrays in the training loop then it will not train efficiently.\n",
    "* Check the examples from the pytorch tutorial lecture, they can help understand the assignment better."
   ]
  },
  {
   "cell_type": "markdown",
   "metadata": {},
   "source": [
    "## Part 1. Load dataset and split into training and testing sets \n",
    "\n",
    "Suppose we observe a set of n real-valued input variables x = $\\{x_n\\}$ and wish to use this observation to predict \n",
    "the value of a real-valued target variable $y$. In the tutorial we considered artifical examples with synthetic data. In this exercise we will consider a simple dataset that is suitable for linear regression. \n",
    "\n",
    "We will take a small advertisement dataset. It contains data on the budget allocated for TV, radio and newspaper advertisements with the resulting sales. It contains n = 200 samples with three variables \"TV\", \"Radio\",\"Newspaper\" and the value we want to predict, that is \"Sales\". Assuming a linear model is a good representation of the correlation between advertisement budgets and final sales, we will try to train a linear model to regress the sales based on advertisement budget.\n",
    "\n",
    "The dataset is located in the advertisement .csv file and opened as a pandas Dataframe. Firstly we will turn the input variables and regression target into Tensors, and then split the data into training and testing sets. In this case we choose a five fold split, meaning we will use 20% of the data for testing (last 40 samples) and 80% for training (first 160 samples).\n",
    "\n",
    "Please create the required training and testing data below and plot the relationship between the feature 'TV' and the target. Since we have 3 different features, we will only pick 'TV' a 2D plot."
   ]
  },
  {
   "cell_type": "code",
   "execution_count": 1,
   "metadata": {},
   "outputs": [
    {
     "name": "stdout",
     "output_type": "stream",
     "text": [
      "Defaulting to user installation because normal site-packages is not writeable\n",
      "Requirement already satisfied: onedrivedownloader in /Users/mohammadrad/Library/Python/3.9/lib/python/site-packages (1.1.3)\n",
      "Requirement already satisfied: requests in /Users/mohammadrad/Library/Python/3.9/lib/python/site-packages (from onedrivedownloader) (2.32.3)\n",
      "Requirement already satisfied: tqdm in /Users/mohammadrad/Library/Python/3.9/lib/python/site-packages (from onedrivedownloader) (4.66.1)\n",
      "Requirement already satisfied: charset-normalizer<4,>=2 in /Users/mohammadrad/Library/Python/3.9/lib/python/site-packages (from requests->onedrivedownloader) (3.3.2)\n",
      "Requirement already satisfied: idna<4,>=2.5 in /Users/mohammadrad/Library/Python/3.9/lib/python/site-packages (from requests->onedrivedownloader) (3.8)\n",
      "Requirement already satisfied: urllib3<3,>=1.21.1 in /Users/mohammadrad/Library/Python/3.9/lib/python/site-packages (from requests->onedrivedownloader) (2.2.3)\n",
      "Requirement already satisfied: certifi>=2017.4.17 in /Users/mohammadrad/Library/Python/3.9/lib/python/site-packages (from requests->onedrivedownloader) (2024.8.30)\n"
     ]
    },
    {
     "name": "stderr",
     "output_type": "stream",
     "text": [
      "/Users/mohammadrad/Library/Python/3.9/lib/python/site-packages/urllib3/__init__.py:35: NotOpenSSLWarning: urllib3 v2 only supports OpenSSL 1.1.1+, currently the 'ssl' module is compiled with 'LibreSSL 2.8.3'. See: https://github.com/urllib3/urllib3/issues/3020\n",
      "  warnings.warn(\n",
      "100%|██████████| 4.06k/4.06k [00:00<00:00, 1.97MiB/s]\n"
     ]
    },
    {
     "data": {
      "text/plain": [
       "'./advertising.csv'"
      ]
     },
     "execution_count": 1,
     "metadata": {},
     "output_type": "execute_result"
    }
   ],
   "source": [
    "!pip install onedrivedownloader\n",
    "\n",
    "from onedrivedownloader import download\n",
    "import os\n",
    "link = 'https://unioulu-my.sharepoint.com/:x:/g/personal/msavic21_univ_yo_oulu_fi/Eb211jNyQAVIhTq1HsoxQyEBEqoDNHhr606Kfh9LY5Brjw?e=cONlaG'\n",
    "\n",
    "#if not os.path.exists('./data/fashion_mnist_npy'):\n",
    "#    print('Downloading dataset')\n",
    "download(link, filename=\"./advertising.csv\", unzip=True, unzip_path='./')"
   ]
  },
  {
   "cell_type": "code",
   "execution_count": 2,
   "metadata": {},
   "outputs": [
    {
     "data": {
      "text/html": [
       "<div>\n",
       "<style scoped>\n",
       "    .dataframe tbody tr th:only-of-type {\n",
       "        vertical-align: middle;\n",
       "    }\n",
       "\n",
       "    .dataframe tbody tr th {\n",
       "        vertical-align: top;\n",
       "    }\n",
       "\n",
       "    .dataframe thead th {\n",
       "        text-align: right;\n",
       "    }\n",
       "</style>\n",
       "<table border=\"1\" class=\"dataframe\">\n",
       "  <thead>\n",
       "    <tr style=\"text-align: right;\">\n",
       "      <th></th>\n",
       "      <th>TV</th>\n",
       "      <th>Radio</th>\n",
       "      <th>Newspaper</th>\n",
       "      <th>Sales</th>\n",
       "    </tr>\n",
       "  </thead>\n",
       "  <tbody>\n",
       "    <tr>\n",
       "      <th>0</th>\n",
       "      <td>230.1</td>\n",
       "      <td>37.8</td>\n",
       "      <td>69.2</td>\n",
       "      <td>22.1</td>\n",
       "    </tr>\n",
       "    <tr>\n",
       "      <th>1</th>\n",
       "      <td>44.5</td>\n",
       "      <td>39.3</td>\n",
       "      <td>45.1</td>\n",
       "      <td>10.4</td>\n",
       "    </tr>\n",
       "    <tr>\n",
       "      <th>2</th>\n",
       "      <td>17.2</td>\n",
       "      <td>45.9</td>\n",
       "      <td>69.3</td>\n",
       "      <td>12.0</td>\n",
       "    </tr>\n",
       "    <tr>\n",
       "      <th>3</th>\n",
       "      <td>151.5</td>\n",
       "      <td>41.3</td>\n",
       "      <td>58.5</td>\n",
       "      <td>16.5</td>\n",
       "    </tr>\n",
       "    <tr>\n",
       "      <th>4</th>\n",
       "      <td>180.8</td>\n",
       "      <td>10.8</td>\n",
       "      <td>58.4</td>\n",
       "      <td>17.9</td>\n",
       "    </tr>\n",
       "  </tbody>\n",
       "</table>\n",
       "</div>"
      ],
      "text/plain": [
       "      TV  Radio  Newspaper  Sales\n",
       "0  230.1   37.8       69.2   22.1\n",
       "1   44.5   39.3       45.1   10.4\n",
       "2   17.2   45.9       69.3   12.0\n",
       "3  151.5   41.3       58.5   16.5\n",
       "4  180.8   10.8       58.4   17.9"
      ]
     },
     "execution_count": 2,
     "metadata": {},
     "output_type": "execute_result"
    }
   ],
   "source": [
    "import matplotlib.pyplot as plt\n",
    "import torch.nn as nn\n",
    "import torch\n",
    "import numpy as np\n",
    "import pandas as pd \n",
    "\n",
    "adv_dataset=pd.read_csv('./advertising.csv')\n",
    "adv_dataset.head()"
   ]
  },
  {
   "cell_type": "code",
   "execution_count": 3,
   "metadata": {},
   "outputs": [
    {
     "name": "stdout",
     "output_type": "stream",
     "text": [
      "torch.Size([200, 3]) torch.Size([200])\n",
      "torch.Size([160, 3]) torch.Size([160])\n",
      "torch.Size([40, 3]) torch.Size([40])\n"
     ]
    },
    {
     "data": {
      "image/png": "[encoded data removed]",
      "text/plain": [
       "<Figure size 600x300 with 1 Axes>"
      ]
     },
     "metadata": {},
     "output_type": "display_data"
    }
   ],
   "source": [
    "# TODO: (1.5 points, details are given below): \n",
    "\n",
    "# get the relevant data from the adv_dataset dataframe and assign them to the Tensors x (feature variables) and y (target)  (0.5 point)\n",
    "x = torch.tensor(adv_dataset[['TV', 'Radio', 'Newspaper']].values, dtype=torch.float32)\n",
    "y = torch.tensor(adv_dataset['Sales'].values, dtype=torch.float32)\n",
    "\n",
    "print(x.size(),y.size())\n",
    "\n",
    "# divide the data in a train set (80% of the data) and test set (20% of the data). Resulting in x_train, x_test, y_train, y_test (0.5 point)\n",
    "train_size = int(0.8 * len(adv_dataset))\n",
    "\n",
    "x_train, x_test = x[:train_size], x[train_size:]\n",
    "y_train, y_test = y[:train_size], y[train_size:]\n",
    "\n",
    "print(x_train.size(),y_train.size())\n",
    "print(x_test.size(),y_test.size())\n",
    "\n",
    "\n",
    "# plot the first feature 'TV' in relationship with the target y. Train and test data should be in a single figure with two different colors (0.5 point)\n",
    "plt.figure(figsize=(6, 3))\n",
    "plt.scatter(x_train[:, 0], y_train, color='blue', s=0.1)\n",
    "plt.scatter(x_test[:, 0], y_test, color='red', s=3)\n",
    "plt.show()"
   ]
  },
  {
   "cell_type": "markdown",
   "metadata": {},
   "source": [
    "## Part 2. Solving the linear regression problem in Pytorch using Gradient Descent Algorithm\n",
    "Congratulations you have prepared the data correctly! Now we will move onto creating our model and training it. "
   ]
  },
  {
   "cell_type": "markdown",
   "metadata": {},
   "source": [
    "### 2.1 Model\n",
    "In this part, you will define your own model class. To do that, you have to remember the following rules:\n",
    "1. The model class should be inherited from [`nn.Module`](https://pytorch.org/docs/stable/generated/torch.nn.Module.html#torch.nn.Module);\n",
    "2. Re-write the **\\_\\_init\\_\\_** function and the **forward** function;\n",
    "3. In the **\\_\\_init\\_\\_** function, you should always call the parent's **\\_\\_init\\_\\_** function first.\n",
    "4. Don't use the nn.Linear() layer, implement it yourself.\n",
    "5. Use 1 tensor to define w (not 3) and 1 tensor to define b.\n",
    "6. Only torch functions and no iterations inside the model.\n",
    "\n",
    "To make it simpler, since we are using a linear function to approximate the phenomenon that generated the data, our function will be:\n",
    "\n",
    "\\begin{align*}\n",
    "y = w^T x + b \n",
    "\\end{align*}\n",
    "\n",
    "Therefore, in the model, we need to set 2 parameters: $w$, $b$"
   ]
  },
  {
   "cell_type": "code",
   "execution_count": 4,
   "metadata": {},
   "outputs": [],
   "source": [
    "# TODO (1.5 points, details are given below)\n",
    "import torch.nn as nn\n",
    "\n",
    "\n",
    "# define a class (0.5) + write the __init__ function (0.5 point) + write the forward function (0.5 points)\n",
    "class LinearRegressionModel(nn.Module):\n",
    "    def __init__(self, input_dim):\n",
    "        super(LinearRegressionModel, self).__init__()\n",
    "        self.w = nn.Parameter(torch.zeros(input_dim))\n",
    "        self.b = nn.Parameter(torch.zeros(1))\n",
    "\n",
    "    def forward(self, x):\n",
    "        # y = x w^T + b\n",
    "        return torch.matmul(x, self.w) + self.b\n"
   ]
  },
  {
   "cell_type": "markdown",
   "metadata": {},
   "source": [
    "### 2.2 Training\n",
    "Here, you will train your model based on the training data and evaluate the model on testing data.\n",
    "1. Set proper number of iterations and learning rate.\n",
    "2. Remember to use a proper optimizer (you may have many choices: Adam, SGD, RMSprop, ... please find the detailed information in https://pytorch.org/docs/stable/optim.html and know how to use them).\n",
    "3. In order to train the model, a loss function should be defined:\n",
    "\\begin{align*}\n",
    "loss = \\frac{1}{N}\\sum_{i=1}^{N}|f_i - y_i|,\n",
    "\\end{align*}\n",
    "where, $f_i$ is the output of the model and $N$ is the number of training data pairs.\n",
    "4. The model must be trained only using training data.\n",
    "5. Remember to clear the old gradients of parameters before a new backward propagation.\n",
    "6. In every certain number of iterations, print the values of the parameters, the training loss, and the testing loss.\n",
    "7. Meanwhile, please track the training loss and the testing loss in each iteration. Once the training is done, the curves of losses should be plotted (two curves are drawn in the same figure, where x axis indicates iterations and y axis indicates the losses).\n",
    "8. Lastly, draw all the training data, testing data and the curve of the trained model in the same figure (use different showing styles to distinguish them)."
   ]
  },
  {
   "cell_type": "code",
   "execution_count": 5,
   "metadata": {},
   "outputs": [
    {
     "name": "stdout",
     "output_type": "stream",
     "text": [
      "Iteration: 0001 | Training loss: 14.759514 | Testing loss: 15.397784\n",
      "Iteration: 0101 | Training loss: 2.145292 | Testing loss: 2.500029\n",
      "Iteration: 0201 | Training loss: 1.971482 | Testing loss: 2.341762\n",
      "Iteration: 0301 | Training loss: 1.848908 | Testing loss: 2.223969\n",
      "Iteration: 0401 | Training loss: 1.802230 | Testing loss: 2.156364\n",
      "Iteration: 0501 | Training loss: 1.781663 | Testing loss: 2.122245\n",
      "Iteration: 0601 | Training loss: 1.761226 | Testing loss: 2.080830\n",
      "Iteration: 0701 | Training loss: 1.744196 | Testing loss: 2.045022\n",
      "Iteration: 0801 | Training loss: 1.729261 | Testing loss: 2.026380\n",
      "Iteration: 0901 | Training loss: 1.713915 | Testing loss: 2.006613\n",
      "Iteration: 1001 | Training loss: 1.698314 | Testing loss: 1.985529\n",
      "Iteration: 1101 | Training loss: 1.682776 | Testing loss: 1.965816\n",
      "Iteration: 1201 | Training loss: 1.667580 | Testing loss: 1.942652\n",
      "Iteration: 1301 | Training loss: 1.652294 | Testing loss: 1.918807\n",
      "Iteration: 1401 | Training loss: 1.636681 | Testing loss: 1.895944\n",
      "Iteration: 1501 | Training loss: 1.621799 | Testing loss: 1.872724\n",
      "Iteration: 1601 | Training loss: 1.607642 | Testing loss: 1.854419\n",
      "Iteration: 1701 | Training loss: 1.593702 | Testing loss: 1.838156\n",
      "Iteration: 1801 | Training loss: 1.580226 | Testing loss: 1.813414\n",
      "Iteration: 1901 | Training loss: 1.567140 | Testing loss: 1.795628\n",
      "Iteration: 2001 | Training loss: 1.553885 | Testing loss: 1.779319\n",
      "Iteration: 2101 | Training loss: 1.540607 | Testing loss: 1.755114\n",
      "Iteration: 2201 | Training loss: 1.527983 | Testing loss: 1.735399\n",
      "Iteration: 2301 | Training loss: 1.515382 | Testing loss: 1.718462\n",
      "Iteration: 2401 | Training loss: 1.502536 | Testing loss: 1.702470\n",
      "Iteration: 2501 | Training loss: 1.489543 | Testing loss: 1.686722\n",
      "Iteration: 2601 | Training loss: 1.476389 | Testing loss: 1.672961\n",
      "Iteration: 2701 | Training loss: 1.463554 | Testing loss: 1.652447\n",
      "Iteration: 2801 | Training loss: 1.451750 | Testing loss: 1.628538\n",
      "Iteration: 2901 | Training loss: 1.439999 | Testing loss: 1.620638\n",
      "Iteration: 3001 | Training loss: 1.428510 | Testing loss: 1.607894\n",
      "Iteration: 3101 | Training loss: 1.416969 | Testing loss: 1.593628\n",
      "Iteration: 3201 | Training loss: 1.406145 | Testing loss: 1.574078\n",
      "Iteration: 3301 | Training loss: 1.395804 | Testing loss: 1.556876\n",
      "Iteration: 3401 | Training loss: 1.385600 | Testing loss: 1.534464\n",
      "Iteration: 3501 | Training loss: 1.375963 | Testing loss: 1.512026\n",
      "Iteration: 3601 | Training loss: 1.365883 | Testing loss: 1.492067\n",
      "Iteration: 3701 | Training loss: 1.356187 | Testing loss: 1.480512\n",
      "Iteration: 3801 | Training loss: 1.345570 | Testing loss: 1.450984\n",
      "Iteration: 3901 | Training loss: 1.335158 | Testing loss: 1.432754\n",
      "Iteration: 4001 | Training loss: 1.324606 | Testing loss: 1.417849\n",
      "Iteration: 4101 | Training loss: 1.313843 | Testing loss: 1.400570\n",
      "Iteration: 4201 | Training loss: 1.303139 | Testing loss: 1.380222\n",
      "Iteration: 4301 | Training loss: 1.294120 | Testing loss: 1.367332\n",
      "Iteration: 4401 | Training loss: 1.286904 | Testing loss: 1.359697\n",
      "Iteration: 4501 | Training loss: 1.280168 | Testing loss: 1.351685\n",
      "Iteration: 4601 | Training loss: 1.273718 | Testing loss: 1.343929\n",
      "Iteration: 4701 | Training loss: 1.267086 | Testing loss: 1.343479\n",
      "Iteration: 4801 | Training loss: 1.260554 | Testing loss: 1.333730\n",
      "Iteration: 4901 | Training loss: 1.253940 | Testing loss: 1.314702\n",
      "Iteration: 5001 | Training loss: 1.248238 | Testing loss: 1.299272\n",
      "Iteration: 5101 | Training loss: 1.242903 | Testing loss: 1.286536\n",
      "Iteration: 5201 | Training loss: 1.238305 | Testing loss: 1.287555\n",
      "Iteration: 5301 | Training loss: 1.234643 | Testing loss: 1.285353\n",
      "Iteration: 5401 | Training loss: 1.232057 | Testing loss: 1.282456\n",
      "Iteration: 5501 | Training loss: 1.229603 | Testing loss: 1.278692\n",
      "Iteration: 5601 | Training loss: 1.227536 | Testing loss: 1.280221\n",
      "Iteration: 5701 | Training loss: 1.225362 | Testing loss: 1.271262\n",
      "Iteration: 5801 | Training loss: 1.225033 | Testing loss: 1.267407\n",
      "Iteration: 5901 | Training loss: 1.224029 | Testing loss: 1.267461\n",
      "Iteration: 6001 | Training loss: 1.223271 | Testing loss: 1.269388\n",
      "Iteration: 6101 | Training loss: 1.222389 | Testing loss: 1.264769\n",
      "Iteration: 6201 | Training loss: 1.221506 | Testing loss: 1.268226\n",
      "Iteration: 6301 | Training loss: 1.220836 | Testing loss: 1.270904\n",
      "Iteration: 6401 | Training loss: 1.220363 | Testing loss: 1.269987\n",
      "Iteration: 6501 | Training loss: 1.220955 | Testing loss: 1.255283\n",
      "Iteration: 6601 | Training loss: 1.218766 | Testing loss: 1.265701\n",
      "Iteration: 6701 | Training loss: 1.218049 | Testing loss: 1.268533\n",
      "Iteration: 6801 | Training loss: 1.217549 | Testing loss: 1.264427\n",
      "Iteration: 6901 | Training loss: 1.217331 | Testing loss: 1.263404\n",
      "Iteration: 7001 | Training loss: 1.217558 | Testing loss: 1.262242\n",
      "Iteration: 7101 | Training loss: 1.216522 | Testing loss: 1.267668\n",
      "Iteration: 7201 | Training loss: 1.215913 | Testing loss: 1.267561\n",
      "Iteration: 7301 | Training loss: 1.216455 | Testing loss: 1.270281\n",
      "Iteration: 7401 | Training loss: 1.216157 | Testing loss: 1.266384\n",
      "Iteration: 7501 | Training loss: 1.216401 | Testing loss: 1.262977\n",
      "Iteration: 7601 | Training loss: 1.215989 | Testing loss: 1.264360\n",
      "Iteration: 7701 | Training loss: 1.216676 | Testing loss: 1.267158\n",
      "Iteration: 7801 | Training loss: 1.216009 | Testing loss: 1.266314\n",
      "Iteration: 7901 | Training loss: 1.216134 | Testing loss: 1.267290\n",
      "Iteration: 8001 | Training loss: 1.215927 | Testing loss: 1.268161\n",
      "Iteration: 8101 | Training loss: 1.216085 | Testing loss: 1.265921\n",
      "Iteration: 8201 | Training loss: 1.216138 | Testing loss: 1.267209\n",
      "Iteration: 8301 | Training loss: 1.216207 | Testing loss: 1.265934\n",
      "Iteration: 8401 | Training loss: 1.215925 | Testing loss: 1.265254\n",
      "Iteration: 8501 | Training loss: 1.216191 | Testing loss: 1.265245\n",
      "Iteration: 8601 | Training loss: 1.216115 | Testing loss: 1.267762\n",
      "Iteration: 8701 | Training loss: 1.216077 | Testing loss: 1.269192\n",
      "Iteration: 8801 | Training loss: 1.216348 | Testing loss: 1.265318\n",
      "Iteration: 8901 | Training loss: 1.216488 | Testing loss: 1.266181\n",
      "Iteration: 9001 | Training loss: 1.215968 | Testing loss: 1.268082\n",
      "Iteration: 9101 | Training loss: 1.216156 | Testing loss: 1.263961\n",
      "Iteration: 9201 | Training loss: 1.216029 | Testing loss: 1.268181\n",
      "Iteration: 9301 | Training loss: 1.216202 | Testing loss: 1.263178\n",
      "Iteration: 9401 | Training loss: 1.216053 | Testing loss: 1.265409\n",
      "Iteration: 9501 | Training loss: 1.216055 | Testing loss: 1.262813\n",
      "Iteration: 9601 | Training loss: 1.216943 | Testing loss: 1.268776\n",
      "Iteration: 9701 | Training loss: 1.216018 | Testing loss: 1.268388\n",
      "Iteration: 9801 | Training loss: 1.215981 | Testing loss: 1.266093\n",
      "Iteration: 9901 | Training loss: 1.215901 | Testing loss: 1.267250\n"
     ]
    }
   ],
   "source": [
    "# TODO (7 points, details are given below)\n",
    "\n",
    "# Make a instance of the model class (0.5 point)\n",
    "model = LinearRegressionModel(input_dim=3)\n",
    "\n",
    "# create an optimizer, set a workable learing rate (1 point)\n",
    "optimizer = torch.optim.Adam(model.parameters(), lr=0.001)\n",
    "\n",
    "training_losses = []\n",
    "testing_losses = []\n",
    "\n",
    "n_itr = 10000\n",
    "\n",
    "for i in range(n_itr):\n",
    "\n",
    "    # Train\n",
    "    # forward propagation \n",
    "    model.train() # change model to train mode\n",
    "    \n",
    "    # calculate the output of model (0.5 point)\n",
    "    y_train_pred = model(x_train)\n",
    "    \n",
    "    # calculate loss according to the above equation (1 point)\n",
    "    loss = torch.mean(torch.abs(y_train_pred - y_train))\n",
    "    \n",
    "    training_losses.append(loss.item())\n",
    "\n",
    "\n",
    "    # backward propagation (clear old gradients, calculate gradients of parameters, gradient descent algorithm ) (1.5 point)\n",
    "    optimizer.zero_grad()\n",
    "    loss.backward()\n",
    "    optimizer.step()\n",
    "    \n",
    "    # Evaluate, calculate the testing loss (1 point)\n",
    "    model.eval() # change model to eval mode\n",
    "\n",
    "    y_test_pred = model(x_test)\n",
    "    test_loss = torch.mean(torch.abs(y_test_pred - y_test))\n",
    "\n",
    "    testing_losses.append(test_loss.item())\n",
    "\n",
    "    # print intermediate losses for certain iterations (0.5 point)\n",
    "    if i % 100 == 1: \n",
    "        print('Iteration: %04d | Training loss: %f | Testing loss: %f' % \\\n",
    "              (i, loss.data, test_loss.data))\n"
   ]
  },
  {
   "cell_type": "code",
   "execution_count": 8,
   "metadata": {},
   "outputs": [
    {
     "data": {
      "image/png": "[encoded data removed]",
      "text/plain": [
       "<Figure size 600x300 with 1 Axes>"
      ]
     },
     "metadata": {},
     "output_type": "display_data"
    },
    {
     "data": {
      "text/plain": [
       "<Figure size 640x480 with 0 Axes>"
      ]
     },
     "metadata": {},
     "output_type": "display_data"
    }
   ],
   "source": [
    "# plot the traing losses and testing losses (0.5 point)\n",
    "plt.figure(figsize=(6, 3))\n",
    "plt.plot(training_losses, label='train', color='blue')\n",
    "plt.plot(testing_losses, label='test', color='orange')\n",
    "plt.legend()\n",
    "plt.show()\n",
    "plt.savefig('loss_curves.png')"
   ]
  },
  {
   "cell_type": "code",
   "execution_count": 9,
   "metadata": {},
   "outputs": [
    {
     "data": {
      "image/png": "[encoded data removed]",
      "text/plain": [
       "<Figure size 600x300 with 1 Axes>"
      ]
     },
     "metadata": {},
     "output_type": "display_data"
    },
    {
     "data": {
      "text/plain": [
       "<Figure size 640x480 with 0 Axes>"
      ]
     },
     "metadata": {},
     "output_type": "display_data"
    }
   ],
   "source": [
    "# As our model contains a 3 dimensionsional input, we will only plot the relationship between the first variable 'tv' and the target.\n",
    "# Again plot the train and test data (from Part1), and add a line where the slope and axis intercept are taken from the model parameters w and b\n",
    "# (0.5 point)\n",
    "\n",
    "plt.figure(figsize=(6, 3))\n",
    "plt.scatter(x_train[:, 0], y_train, color='blue', s=0.1)\n",
    "plt.scatter(x_test[:, 0], y_test, color='red', s=4)\n",
    "\n",
    "slope = model.w[0].item()\n",
    "intercept = model.b.item()\n",
    "tv_values = torch.linspace(x_train[:, 0].min(), x_train[:, 0].max(), 100)\n",
    "sales_predictions = slope * tv_values + intercept\n",
    "\n",
    "plt.plot(tv_values, sales_predictions, color='orange')\n",
    "plt.show()\n",
    "plt.savefig('regression_line.png')\n"
   ]
  }
 ],
 "metadata": {
  "kernelspec": {
   "display_name": "Python 3",
   "language": "python",
   "name": "python3"
  },
  "language_info": {
   "codemirror_mode": {
    "name": "ipython",
    "version": 3
   },
   "file_extension": ".py",
   "mimetype": "text/x-python",
   "name": "python",
   "nbconvert_exporter": "python",
   "pygments_lexer": "ipython3",
   "version": "3.9.6"
  }
 },
 "nbformat": 4,
 "nbformat_minor": 4
}
